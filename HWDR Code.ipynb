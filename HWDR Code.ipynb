{
  "nbformat": 4,
  "nbformat_minor": 0,
  "metadata": {
    "colab": {
      "provenance": []
    },
    "kernelspec": {
      "name": "python3",
      "display_name": "Python 3"
    },
    "language_info": {
      "name": "python"
    }
  },
  "cells": [
    {
      "cell_type": "code",
      "execution_count": null,
      "metadata": {
        "colab": {
          "base_uri": "https://localhost:8080/"
        },
        "id": "_NIz7s0-cRZ1",
        "outputId": "971cdfae-8ca3-4f1e-9dc2-2ffe5b18a57b"
      },
      "outputs": [
        {
          "metadata": {
            "tags": null
          },
          "name": "stdout",
          "output_type": "stream",
          "text": [
            "Downloading data from https://storage.googleapis.com/tensorflow/tf-keras-datasets/mnist.npz\n",
            "\u001b[1m11490434/11490434\u001b[0m \u001b[32m━━━━━━━━━━━━━━━━━━━━\u001b[0m\u001b[37m\u001b[0m \u001b[1m1s\u001b[0m 0us/step\n"
          ]
        },
        {
          "metadata": {
            "tags": null
          },
          "name": "stderr",
          "output_type": "stream",
          "text": [
            "/usr/local/lib/python3.11/dist-packages/keras/src/layers/reshaping/flatten.py:37: UserWarning: Do not pass an `input_shape`/`input_dim` argument to a layer. When using Sequential models, prefer using an `Input(shape)` object as the first layer in the model instead.\n",
            "  super().__init__(**kwargs)\n"
          ]
        },
        {
          "metadata": {
            "tags": null
          },
          "name": "stdout",
          "output_type": "stream",
          "text": [
            "Epoch 1/20\n"
          ]
        },
        {
          "metadata": {
            "tags": null
          },
          "name": "stderr",
          "output_type": "stream",
          "text": [
            "/usr/local/lib/python3.11/dist-packages/keras/src/trainers/data_adapters/py_dataset_adapter.py:121: UserWarning: Your `PyDataset` class should call `super().__init__(**kwargs)` in its constructor. `**kwargs` can include `workers`, `use_multiprocessing`, `max_queue_size`. Do not pass these arguments to `fit()`, as they will be ignored.\n",
            "  self._warn_if_super_not_called()\n"
          ]
        },
        {
          "metadata": {
            "tags": null
          },
          "name": "stdout",
          "output_type": "stream",
          "text": [
            "\u001b[1m1500/1500\u001b[0m \u001b[32m━━━━━━━━━━━━━━━━━━━━\u001b[0m\u001b[37m\u001b[0m \u001b[1m35s\u001b[0m 21ms/step - accuracy: 0.6577 - loss: 1.0654 - val_accuracy: 0.9417 - val_loss: 0.2017\n",
            "Epoch 2/20\n",
            "\u001b[1m1500/1500\u001b[0m \u001b[32m━━━━━━━━━━━━━━━━━━━━\u001b[0m\u001b[37m\u001b[0m \u001b[1m31s\u001b[0m 20ms/step - accuracy: 0.8515 - loss: 0.4758 - val_accuracy: 0.9517 - val_loss: 0.1541\n",
            "Epoch 3/20\n",
            "\u001b[1m1500/1500\u001b[0m \u001b[32m━━━━━━━━━━━━━━━━━━━━\u001b[0m\u001b[37m\u001b[0m \u001b[1m32s\u001b[0m 21ms/step - accuracy: 0.8771 - loss: 0.3858 - val_accuracy: 0.9639 - val_loss: 0.1202\n",
            "Epoch 4/20\n",
            "\u001b[1m1500/1500\u001b[0m \u001b[32m━━━━━━━━━━━━━━━━━━━━\u001b[0m\u001b[37m\u001b[0m \u001b[1m31s\u001b[0m 20ms/step - accuracy: 0.8934 - loss: 0.3454 - val_accuracy: 0.9679 - val_loss: 0.1094\n",
            "Epoch 5/20\n",
            "\u001b[1m1500/1500\u001b[0m \u001b[32m━━━━━━━━━━━━━━━━━━━━\u001b[0m\u001b[37m\u001b[0m \u001b[1m32s\u001b[0m 21ms/step - accuracy: 0.9015 - loss: 0.3144 - val_accuracy: 0.9690 - val_loss: 0.0992\n",
            "Epoch 6/20\n",
            "\u001b[1m1500/1500\u001b[0m \u001b[32m━━━━━━━━━━━━━━━━━━━━\u001b[0m\u001b[37m\u001b[0m \u001b[1m31s\u001b[0m 21ms/step - accuracy: 0.9076 - loss: 0.2953 - val_accuracy: 0.9717 - val_loss: 0.0941\n",
            "Epoch 7/20\n",
            "\u001b[1m1500/1500\u001b[0m \u001b[32m━━━━━━━━━━━━━━━━━━━━\u001b[0m\u001b[37m\u001b[0m \u001b[1m30s\u001b[0m 20ms/step - accuracy: 0.9116 - loss: 0.2851 - val_accuracy: 0.9725 - val_loss: 0.0901\n",
            "Epoch 8/20\n",
            "\u001b[1m1500/1500\u001b[0m \u001b[32m━━━━━━━━━━━━━━━━━━━━\u001b[0m\u001b[37m\u001b[0m \u001b[1m32s\u001b[0m 21ms/step - accuracy: 0.9132 - loss: 0.2725 - val_accuracy: 0.9762 - val_loss: 0.0804\n",
            "Epoch 9/20\n",
            "\u001b[1m1500/1500\u001b[0m \u001b[32m━━━━━━━━━━━━━━━━━━━━\u001b[0m\u001b[37m\u001b[0m \u001b[1m31s\u001b[0m 21ms/step - accuracy: 0.9200 - loss: 0.2639 - val_accuracy: 0.9752 - val_loss: 0.0808\n",
            "Epoch 10/20\n",
            "\u001b[1m1500/1500\u001b[0m \u001b[32m━━━━━━━━━━━━━━━━━━━━\u001b[0m\u001b[37m\u001b[0m \u001b[1m30s\u001b[0m 20ms/step - accuracy: 0.9221 - loss: 0.2465 - val_accuracy: 0.9767 - val_loss: 0.0786\n",
            "Epoch 11/20\n",
            "\u001b[1m1500/1500\u001b[0m \u001b[32m━━━━━━━━━━━━━━━━━━━━\u001b[0m\u001b[37m\u001b[0m \u001b[1m42s\u001b[0m 21ms/step - accuracy: 0.9269 - loss: 0.2393 - val_accuracy: 0.9801 - val_loss: 0.0705\n",
            "Epoch 12/20\n",
            "\u001b[1m1500/1500\u001b[0m \u001b[32m━━━━━━━━━━━━━━━━━━━━\u001b[0m\u001b[37m\u001b[0m \u001b[1m32s\u001b[0m 21ms/step - accuracy: 0.9266 - loss: 0.2335 - val_accuracy: 0.9787 - val_loss: 0.0707\n",
            "Epoch 13/20\n",
            "\u001b[1m1500/1500\u001b[0m \u001b[32m━━━━━━━━━━━━━━━━━━━━\u001b[0m\u001b[37m\u001b[0m \u001b[1m33s\u001b[0m 22ms/step - accuracy: 0.9275 - loss: 0.2333 - val_accuracy: 0.9783 - val_loss: 0.0683\n",
            "Epoch 14/20\n",
            "\u001b[1m1500/1500\u001b[0m \u001b[32m━━━━━━━━━━━━━━━━━━━━\u001b[0m\u001b[37m\u001b[0m \u001b[1m40s\u001b[0m 22ms/step - accuracy: 0.9317 - loss: 0.2243 - val_accuracy: 0.9820 - val_loss: 0.0595\n",
            "Epoch 15/20\n",
            "\u001b[1m1500/1500\u001b[0m \u001b[32m━━━━━━━━━━━━━━━━━━━━\u001b[0m\u001b[37m\u001b[0m \u001b[1m31s\u001b[0m 20ms/step - accuracy: 0.9346 - loss: 0.2179 - val_accuracy: 0.9798 - val_loss: 0.0642\n",
            "Epoch 16/20\n",
            "\u001b[1m1500/1500\u001b[0m \u001b[32m━━━━━━━━━━━━━━━━━━━━\u001b[0m\u001b[37m\u001b[0m \u001b[1m33s\u001b[0m 22ms/step - accuracy: 0.9340 - loss: 0.2118 - val_accuracy: 0.9797 - val_loss: 0.0644\n",
            "Epoch 17/20\n",
            "\u001b[1m1500/1500\u001b[0m \u001b[32m━━━━━━━━━━━━━━━━━━━━\u001b[0m\u001b[37m\u001b[0m \u001b[1m31s\u001b[0m 21ms/step - accuracy: 0.9343 - loss: 0.2095 - val_accuracy: 0.9805 - val_loss: 0.0643\n",
            "313/313 - 1s - 3ms/step - accuracy: 0.9817 - loss: 0.0554\n",
            "\n",
            "Test Accuracy: 98.17%\n"
          ]
        }
      ],
      "source": [
        "import tensorflow as tf\n",
        "from tensorflow.keras import Sequential\n",
        "from tensorflow.keras.layers import Dense, Flatten, Dropout, BatchNormalization\n",
        "from tensorflow.keras.datasets import mnist\n",
        "from tensorflow.keras.preprocessing.image import ImageDataGenerator\n",
        "from tensorflow.keras.callbacks import EarlyStopping\n",
        "from sklearn.model_selection import train_test_split\n",
        "import numpy as np\n",
        "import matplotlib.pyplot as plt\n",
        "from PIL import Image, ImageOps\n",
        "import os\n",
        "\n",
        "# Load and preprocess the MNIST dataset\n",
        "(x_train, y_train), (x_test, y_test) = mnist.load_data()\n",
        "x_train = x_train / 255.0  # Normalize pixel values\n",
        "x_test = x_test / 255.0\n",
        "\n",
        "# Add a channel dimension\n",
        "x_train = np.expand_dims(x_train, axis=-1)  # Shape: (60000, 28, 28, 1)\n",
        "x_test = np.expand_dims(x_test, axis=-1)    # Shape: (10000, 28, 28, 1)\n",
        "\n",
        "# Split training data into training and validation sets\n",
        "x_train_split, x_val, y_train_split, y_val = train_test_split(\n",
        "    x_train, y_train, test_size=0.2, random_state=42\n",
        ")\n",
        "\n",
        "# Data augmentation\n",
        "datagen = ImageDataGenerator(\n",
        "    rotation_range=10,\n",
        "    width_shift_range=0.1,\n",
        "    height_shift_range=0.1,\n",
        "    zoom_range=0.1\n",
        ")\n",
        "datagen.fit(x_train_split)\n",
        "\n",
        "# Build the neural network model\n",
        "model = Sequential([\n",
        "    Flatten(input_shape=(28, 28, 1)),  # Updated input shape\n",
        "    Dense(256, activation='relu'),\n",
        "    BatchNormalization(),\n",
        "    Dropout(0.3),\n",
        "    Dense(128, activation='relu'),\n",
        "    BatchNormalization(),\n",
        "    Dropout(0.3),\n",
        "    Dense(10, activation='softmax')\n",
        "])\n",
        "\n",
        "# Compile the model\n",
        "model.compile(optimizer='adam',\n",
        "              loss='sparse_categorical_crossentropy',\n",
        "              metrics=['accuracy'])\n",
        "\n",
        "# Set up early stopping\n",
        "early_stopping = EarlyStopping(monitor='val_loss', patience=3, restore_best_weights=True)\n",
        "\n",
        "# Train the model\n",
        "model.fit(\n",
        "    datagen.flow(x_train_split, y_train_split, batch_size=32),  # Training generator\n",
        "    validation_data=(x_val, y_val),  # Validation data\n",
        "    epochs=20,\n",
        "    callbacks=[early_stopping]\n",
        ")\n",
        "\n",
        "# Evaluate the model on the test dataset\n",
        "test_loss, test_accuracy = model.evaluate(x_test, y_test, verbose=2)\n",
        "print(f\"\\nTest Accuracy: {test_accuracy * 100:.2f}%\")\n",
        "\n",
        "# Function to preprocess and predict a custom image\n",
        "def predict_custom_image(image_path):\n",
        "    try:\n",
        "        # Load and preprocess the image\n",
        "        img = Image.open(image_path).convert('L')  # Convert to grayscale\n",
        "        img = ImageOps.invert(img)  # Invert colors for MNIST format\n",
        "        img = img.resize((28, 28))  # Resize to 28x28 pixels\n",
        "        img_array = np.array(img)\n",
        "\n",
        "        # Normalize the image\n",
        "        img_array = img_array / 255.0\n",
        "\n",
        "        # Check if the digit is centered; pad if necessary\n",
        "        img_array = np.pad(img_array, ((4, 4), (4, 4)), mode='constant', constant_values=0)\n",
        "\n",
        "        # Crop or center the digit\n",
        "        img_array = img_array[4:-4, 4:-4]\n",
        "\n",
        "        # Add channel dimension\n",
        "        img_array = img_array.reshape(1, 28, 28, 1)\n",
        "\n",
        "        # Predict the digit\n",
        "        prediction = model.predict(img_array)\n",
        "        predicted_label = np.argmax(prediction)\n",
        "\n",
        "        # Display the image and prediction\n",
        "        plt.imshow(img_array.reshape(28, 28), cmap='gray')\n",
        "        plt.title(f\"Predicted: {predicted_label}\")\n",
        "        plt.axis('off')\n",
        "        plt.show()\n",
        "\n",
        "        print(f\"Model Prediction: {predicted_label}\")\n",
        "    except Exception as e:\n",
        "        print(f\"Error: {e}. Please ensure the file is a valid image.\")\n",
        "\n",
        "# Test on a custom image\n",
        "image_path = input(\"Enter the path to your handwritten digit image: \").strip()\n",
        "if os.path.exists(image_path):\n",
        "    predict_custom_image(image_path)\n",
        "else:\n",
        "    print(\"File not found. Please check the file path.\")\n"
      ]
    },
    {
      "cell_type": "code",
      "source": [
        "# Function to preprocess and predict a custom image\n",
        "def predict_custom_image(image_path):\n",
        "    try:\n",
        "        # Load and preprocess the image\n",
        "        img = Image.open(image_path).convert('L')  # Convert to grayscale\n",
        "        img = ImageOps.invert(img)  # Invert colors for MNIST format\n",
        "        img = img.resize((28, 28))  # Resize to 28x28 pixels\n",
        "        img_array = np.array(img)\n",
        "\n",
        "        # Normalize the image\n",
        "        img_array = img_array / 255.0\n",
        "\n",
        "        # Check if the digit is centered; pad if necessary\n",
        "        img_array = np.pad(img_array, ((4, 4), (4, 4)), mode='constant', constant_values=0)\n",
        "\n",
        "        # Crop or center the digit\n",
        "        img_array = img_array[4:-4, 4:-4]\n",
        "\n",
        "        # Add channel dimension\n",
        "        img_array = img_array.reshape(1, 28, 28, 1)\n",
        "\n",
        "        # Predict the digit\n",
        "        prediction = model.predict(img_array)\n",
        "        predicted_label = np.argmax(prediction)\n",
        "\n",
        "        # Display the image and prediction\n",
        "        plt.imshow(img_array.reshape(28, 28), cmap='gray')\n",
        "        plt.title(f\"Predicted: {predicted_label}\")\n",
        "        plt.axis('off')\n",
        "        plt.show()\n",
        "\n",
        "        print(f\"Model Prediction: {predicted_label}\")\n",
        "    except Exception as e:\n",
        "        print(f\"Error: {e}. Please ensure the file is a valid image.\")\n",
        "\n",
        "# Test on a custom image\n",
        "image_path = input(\"Enter the path to your handwritten digit image: \").strip()\n",
        "if os.path.exists(image_path):\n",
        "    predict_custom_image(image_path)\n",
        "else:\n",
        "    print(\"File not found. Please check the file path.\")"
      ],
      "metadata": {
        "colab": {
          "base_uri": "https://localhost:8080/",
          "height": 480
        },
        "id": "eaN1Gz8sB5Ry",
        "outputId": "6d827aa8-99ae-4791-898e-66a7ae7b0d00"
      },
      "execution_count": null,
      "outputs": [
        {
          "output_type": "stream",
          "name": "stdout",
          "text": [
            "Enter the path to your handwritten digit image: /content/image_2024-11-23_004926022.png\n",
            "\u001b[1m1/1\u001b[0m \u001b[32m━━━━━━━━━━━━━━━━━━━━\u001b[0m\u001b[37m\u001b[0m \u001b[1m0s\u001b[0m 23ms/step\n"
          ]
        },
        {
          "output_type": "display_data",
          "data": {
            "text/plain": [
              "<Figure size 640x480 with 1 Axes>"
            ],
            "image/png": "[encoded data removed]"
          },
          "metadata": {}
        },
        {
          "output_type": "stream",
          "name": "stdout",
          "text": [
            "Model Prediction: 5\n"
          ]
        }
      ]
    }
  ]
}